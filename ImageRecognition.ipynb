{
  "nbformat": 4,
  "nbformat_minor": 0,
  "metadata": {
    "colab": {
      "name": "CNNLSTM_HW2.ipynb",
      "version": "0.3.2",
      "provenance": [],
      "collapsed_sections": [],
      "include_colab_link": true
    }
  },
  "cells": [
    {
      "cell_type": "markdown",
      "metadata": {
        "id": "view-in-github",
        "colab_type": "text"
      },
      "source": [
        "<a href=\"https://colab.research.google.com/github/MangoHaha/ImageRecognition/blob/master/ImageRecognition.ipynb\" target=\"_parent\"><img src=\"https://colab.research.google.com/assets/colab-badge.svg\" alt=\"Open In Colab\"/></a>"
      ]
    },
    {
      "metadata": {
        "id": "dyS-IAsRSkGw",
        "colab_type": "text"
      },
      "cell_type": "markdown",
      "source": [
        "Linked to my google drive for output dir"
      ]
    },
    {
      "metadata": {
        "id": "mSNeBVoysULS",
        "colab_type": "code",
        "colab": {
          "base_uri": "https://localhost:8080/",
          "height": 1972
        },
        "outputId": "04be7efb-e7ac-42a9-a935-096516c5dddb"
      },
      "cell_type": "code",
      "source": [
        "from google.colab import drive\n",
        "drive.mount('/content/drive')\n",
        "!ls \"/content/drive/My Drive\""
      ],
      "execution_count": 1,
      "outputs": [
        {
          "output_type": "stream",
          "text": [
            "Go to this URL in a browser: https://accounts.google.com/o/oauth2/auth?client_id=947318989803-6bn6qk8qdgf4n4g3pfee6491hc0brc4i.apps.googleusercontent.com&redirect_uri=urn%3Aietf%3Awg%3Aoauth%3A2.0%3Aoob&scope=email%20https%3A%2F%2Fwww.googleapis.com%2Fauth%2Fdocs.test%20https%3A%2F%2Fwww.googleapis.com%2Fauth%2Fdrive%20https%3A%2F%2Fwww.googleapis.com%2Fauth%2Fdrive.photos.readonly%20https%3A%2F%2Fwww.googleapis.com%2Fauth%2Fpeopleapi.readonly&response_type=code\n",
            "\n",
            "Enter your authorization code:\n",
            "··········\n",
            "Mounted at /content/drive\n",
            "'2017Fall Reimbursement'\n",
            "'#7_HW3_FengGao.gdoc'\n",
            " AI\n",
            " Chenchen-1040-Form-2015.pdf\n",
            " Chenchen-1040-Form-2016.pdf\n",
            " Chenchen-401k-Statement-Oct.pdf\n",
            " Chenchen-401k-Statement-Sept.pdf\n",
            " Chenchen-BOA-eStmt_2017-11-16.pdf\n",
            " Chenchen-BOA-eStmt_2017-12-15.pdf\n",
            " Chenchen-Chase-2017-09-11-statements-9628.pdf\n",
            " Chenchen-Chase-2017-10-10-statements-9628.pdf\n",
            " Chenchen-Chase-2017-11-08-statements-9628.pdf\n",
            " Chenchen-Chase-2017-12-08-statements-9628.pdf\n",
            " Chenchen-CITI-11-16-2017.pdf\n",
            " Chenchen-CITI-12-15-2017.pdf\n",
            "\"Chenchen-Driver's-License.JPG\"\n",
            " Chenchen-ETRADE-Brokerage-Statement-Aug.pdf\n",
            " Chenchen-ETRADE-Brokerage-Statement-Sept.pdf\n",
            "'Chenchen-E_TRADE FINANCIAL - Stock Plan Holdings By Plan Type.pdf'\n",
            "'Chenchen-E_TRADE FINANCIAL - Stock Plan Overview.pdf'\n",
            " Chenchen-E_TRADE_Scheduled_Upcoming_Events.png\n",
            " Chenchen-I-797C_OneConvergence_01_2013-09_F2016.PDF\n",
            " Chenchen-I-797C_OneConvergence_09_2016-09_2019.pdf\n",
            " Chenchen-I-797C_VMware_10_2016-10_2019.pdf\n",
            " Chenchen-Offer-Letter-OneConvergence.pdf\n",
            " Chenchen-Offer-Letter-VMware.pdf\n",
            " Chenchen-PayStub-11:16-11:31.pdf\n",
            " Chenchen-PayStub-12:1-12:15.pdf\n",
            "\"Chenchen's Doc\"\n",
            " Chenchen-Visa-Passport_Latest_On_Page_6.pdf\n",
            " Chenchen-W2-2015.pdf\n",
            " Chenchen-W2-2016-OneConvergence.pdf\n",
            " Chenchen-W2-2016-VMware.pdf\n",
            "'chenchen wang home quote.pdf'\n",
            " CNNLSTM_HW2.ipynb\n",
            "'coding style.txt'\n",
            "'coding style.txt.gdoc'\n",
            "'Colab Notebooks'\n",
            " contact\n",
            "'Copy of Jiuzhang.gdoc'\n",
            "'CVN Courses 2017 Fall.gdoc'\n",
            "'Doc Apr 23, 2018 at 8-23 PM Page 10.jpg'\n",
            "'Doc Apr 23, 2018 at 8-23 PM Page 1.jpg'\n",
            "'Doc Apr 23, 2018 at 8-23 PM Page 2.jpg'\n",
            "'Doc Apr 23, 2018 at 8-23 PM Page 3.jpg'\n",
            "'Doc Apr 23, 2018 at 8-23 PM Page 4.jpg'\n",
            "'Doc Apr 23, 2018 at 8-23 PM Page 5.jpg'\n",
            "'Doc Apr 23, 2018 at 8-23 PM Page 6.jpg'\n",
            "'Doc Apr 23, 2018 at 8-23 PM Page 7.jpg'\n",
            "'Doc Apr 23, 2018 at 8-23 PM Page 8.jpg'\n",
            "'Doc Apr 23, 2018 at 8-23 PM Page 9.jpg'\n",
            " Docs-Submit.rar\n",
            " DP.pdf\n",
            "'Feng Doc 1806'\n",
            " Feng_Gao_Challenge.gdoc\n",
            "\"Feng's Doc\"\n",
            " hw2_data.zip\n",
            " HW2-fg2364.gdoc\n",
            " IMG_0504.JPG\n",
            " IMG_1493.JPG\n",
            "'kk 2016-10-16 12-56-49.avi'\n",
            "'Lease agreement.pdf'\n",
            "'LOX BUSINESS.docx'\n",
            "'LOX BUSINESS.docx.gdoc'\n",
            "'LOX INQUIRY (1).docx.gdoc'\n",
            "'LOX INQUIRY.docx'\n",
            "'LOX INQUIRY.docx.gdoc'\n",
            " Our-Current-Rent-2553.pdf\n",
            " output0.csv\n",
            " output10.csv\n",
            " output1.csv\n",
            " output2.csv\n",
            " output3.csv\n",
            " output4.csv\n",
            " output5.csv\n",
            " output6.csv\n",
            " output7.csv\n",
            " output8.csv\n",
            " output9.csv\n",
            " output.csv\n",
            "'Project 1: Multi-Threaded Webserver - Google Docs.webarchive'\n",
            "'Readme (1).txt.gdoc'\n",
            "'Readme (2).txt.gdoc'\n",
            " Readme.txt\n",
            " Readme.txt.gdoc\n",
            " RSVP.gform\n",
            " slides.7z\n",
            " test.csv\n",
            " thunderDSP.xlsx\n",
            "'To the Family of the House.docx'\n",
            "'To the Family of the House.docx.gdoc'\n",
            " train.csv\n",
            "'umbrella quote.pdf'\n",
            "'Untitled Diagram.pdf'\n",
            "'Untitled document (10).gdoc'\n",
            "'Untitled document (1).gdoc'\n",
            "'Untitled document (2).gdoc'\n",
            "'Untitled document (3).gdoc'\n",
            "'Untitled document (4).gdoc'\n",
            "'Untitled document (5).gdoc'\n",
            "'Untitled document (6).gdoc'\n",
            "'Untitled document (7).gdoc'\n",
            "'Untitled document (8).gdoc'\n",
            "'Untitled document (9).gdoc'\n",
            "'Untitled document.gdoc'\n",
            "'Untitled drawing.gdraw'\n",
            "'Untitled form.gform'\n"
          ],
          "name": "stdout"
        }
      ]
    },
    {
      "metadata": {
        "id": "0alNEx-ySHoY",
        "colab_type": "text"
      },
      "cell_type": "markdown",
      "source": [
        "Import all necessary libraries"
      ]
    },
    {
      "metadata": {
        "id": "NeoEMEaonH_q",
        "colab_type": "code",
        "colab": {
          "base_uri": "https://localhost:8080/",
          "height": 35
        },
        "outputId": "39a9614c-c5c4-4228-9e05-dd186ed514e7"
      },
      "cell_type": "code",
      "source": [
        "import numpy as np\n",
        "import pandas as pd\n",
        "from keras.preprocessing import text, sequence\n",
        "from keras.preprocessing.text import Tokenizer\n",
        "from keras.utils import to_categorical\n",
        "from keras.models import Model, Input\n",
        "from keras.layers import LSTM, Embedding, Dense, TimeDistributed, Bidirectional\n",
        "from sklearn.model_selection import train_test_split\n",
        "from keras.metrics import categorical_accuracy\n",
        "from keras import backend as K\n",
        "import tensorflow as tf\n",
        "from sklearn.model_selection import ShuffleSplit\n",
        "from sklearn.model_selection import cross_val_score\n",
        "from keras.preprocessing import sequence\n",
        "from keras.models import Sequential\n",
        "from keras.layers import Dense, Dropout, Activation\n",
        "from keras.layers import Conv1D, MaxPooling1D\n",
        "from keras.layers import Flatten\n",
        "from sklearn.model_selection import KFold\n"
      ],
      "execution_count": 2,
      "outputs": [
        {
          "output_type": "stream",
          "text": [
            "Using TensorFlow backend.\n"
          ],
          "name": "stderr"
        }
      ]
    },
    {
      "metadata": {
        "id": "L7pB1QCQSLNG",
        "colab_type": "text"
      },
      "cell_type": "markdown",
      "source": [
        "Define helper methods"
      ]
    },
    {
      "metadata": {
        "id": "Yivpv4WhsJDV",
        "colab_type": "code",
        "colab": {}
      },
      "cell_type": "code",
      "source": [
        "\n",
        "# The custom accuracy metric used for this task\n",
        "def customAccuracy(y_true, y_pred):\n",
        "    y = tf.argmax(y_true, axis =- 1)\n",
        "    y_ = tf.argmax(y_pred, axis =- 1)\n",
        "    mask = tf.greater(y, 0)\n",
        "    return K.cast(K.equal(tf.boolean_mask(y, mask), tf.boolean_mask(y_, mask)), K.floatx())\n",
        "\n",
        "# Maps the sequence to a one-hot encoding\n",
        "def onehot_to_seq(oh_seq, index):\n",
        "    s = ''\n",
        "    for o in oh_seq:\n",
        "        i = np.argmax(o)\n",
        "        if i != 0:\n",
        "            s += index[i]\n",
        "        else:\n",
        "            break\n",
        "    return s\n",
        "\n",
        "# prints the results\n",
        "def print_results(x, y_, revsere_decoder_index):\n",
        "    # print(\"input     : \" + str(x))\n",
        "    # print(\"prediction: \" + str(onehot_to_seq(y_, revsere_decoder_index).upper()))\n",
        "    print(str(x), str(onehot_to_seq(y_, revsere_decoder_index).upper()))\n",
        "\n",
        "# Computes and returns the n-grams of a particualr sequence, defaults to trigrams\n",
        "def seq2ngrams(seqs, n = 3):\n",
        "    return np.array([[seq[i : i + n] for i in range(len(seq))] for seq in seqs])\n",
        "\n",
        "# print output to a file in google drive\n",
        "def write_to_file(test_df, y_test_pred):\n",
        "  f = open('output.csv','w')\n",
        "  f.write(\"id\" + ',' + \"expected\")\n",
        "  for i in range(len(test_df)):\n",
        "    f.write('\\n' + test_df['id'].iloc[i] +',' + str(onehot_to_seq(y_test_pred[i], revsere_decoder_index).upper()))\n",
        "  f.close()\n"
      ],
      "execution_count": 0,
      "outputs": []
    },
    {
      "metadata": {
        "id": "2uVCKhCtSRMz",
        "colab_type": "text"
      },
      "cell_type": "markdown",
      "source": [
        "Red train and test csv files"
      ]
    },
    {
      "metadata": {
        "id": "yHE-B4HMsKPX",
        "colab_type": "code",
        "colab": {
          "base_uri": "https://localhost:8080/",
          "height": 459
        },
        "outputId": "f3abfa06-c128-4aef-d55a-f2c6904cf184"
      },
      "cell_type": "code",
      "source": [
        "train_df = pd.read_csv('/content/drive/My Drive/train.csv')\n",
        "test_df = pd.read_csv('/content/drive/My Drive/test.csv')\n",
        "mega = pd.ExcelFile('/content/drive/My Drive/megamilionshistoryOD.xls')"
      ],
      "execution_count": 8,
      "outputs": [
        {
          "output_type": "error",
          "ename": "ImportError",
          "evalue": "ignored",
          "traceback": [
            "\u001b[0;31m\u001b[0m",
            "\u001b[0;31mImportError\u001b[0mTraceback (most recent call last)",
            "\u001b[0;32m<ipython-input-8-1704e9796b9c>\u001b[0m in \u001b[0;36m<module>\u001b[0;34m()\u001b[0m\n\u001b[1;32m      1\u001b[0m \u001b[0mtrain_df\u001b[0m \u001b[0;34m=\u001b[0m \u001b[0mpd\u001b[0m\u001b[0;34m.\u001b[0m\u001b[0mread_csv\u001b[0m\u001b[0;34m(\u001b[0m\u001b[0;34m'/content/drive/My Drive/train.csv'\u001b[0m\u001b[0;34m)\u001b[0m\u001b[0;34m\u001b[0m\u001b[0m\n\u001b[1;32m      2\u001b[0m \u001b[0mtest_df\u001b[0m \u001b[0;34m=\u001b[0m \u001b[0mpd\u001b[0m\u001b[0;34m.\u001b[0m\u001b[0mread_csv\u001b[0m\u001b[0;34m(\u001b[0m\u001b[0;34m'/content/drive/My Drive/test.csv'\u001b[0m\u001b[0;34m)\u001b[0m\u001b[0;34m\u001b[0m\u001b[0m\n\u001b[0;32m----> 3\u001b[0;31m \u001b[0mmega\u001b[0m \u001b[0;34m=\u001b[0m \u001b[0mpd\u001b[0m\u001b[0;34m.\u001b[0m\u001b[0mExcelFile\u001b[0m\u001b[0;34m(\u001b[0m\u001b[0;34m'/content/drive/My Drive/megamilionshistoryOD.xls'\u001b[0m\u001b[0;34m)\u001b[0m\u001b[0;34m\u001b[0m\u001b[0m\n\u001b[0m",
            "\u001b[0;32m/usr/local/lib/python2.7/dist-packages/pandas/io/excel.pyc\u001b[0m in \u001b[0;36m__init__\u001b[0;34m(self, io, **kwds)\u001b[0m\n\u001b[1;32m    261\u001b[0m             \u001b[0;32mimport\u001b[0m \u001b[0mxlrd\u001b[0m\u001b[0;34m\u001b[0m\u001b[0m\n\u001b[1;32m    262\u001b[0m         \u001b[0;32mexcept\u001b[0m \u001b[0mImportError\u001b[0m\u001b[0;34m:\u001b[0m\u001b[0;34m\u001b[0m\u001b[0m\n\u001b[0;32m--> 263\u001b[0;31m             \u001b[0;32mraise\u001b[0m \u001b[0mImportError\u001b[0m\u001b[0;34m(\u001b[0m\u001b[0merr_msg\u001b[0m\u001b[0;34m)\u001b[0m\u001b[0;34m\u001b[0m\u001b[0m\n\u001b[0m\u001b[1;32m    264\u001b[0m         \u001b[0;32melse\u001b[0m\u001b[0;34m:\u001b[0m\u001b[0;34m\u001b[0m\u001b[0m\n\u001b[1;32m    265\u001b[0m             \u001b[0mver\u001b[0m \u001b[0;34m=\u001b[0m \u001b[0mtuple\u001b[0m\u001b[0;34m(\u001b[0m\u001b[0mmap\u001b[0m\u001b[0;34m(\u001b[0m\u001b[0mint\u001b[0m\u001b[0;34m,\u001b[0m \u001b[0mxlrd\u001b[0m\u001b[0;34m.\u001b[0m\u001b[0m__VERSION__\u001b[0m\u001b[0;34m.\u001b[0m\u001b[0msplit\u001b[0m\u001b[0;34m(\u001b[0m\u001b[0;34m\".\"\u001b[0m\u001b[0;34m)\u001b[0m\u001b[0;34m[\u001b[0m\u001b[0;34m:\u001b[0m\u001b[0;36m2\u001b[0m\u001b[0;34m]\u001b[0m\u001b[0;34m)\u001b[0m\u001b[0;34m)\u001b[0m\u001b[0;34m\u001b[0m\u001b[0m\n",
            "\u001b[0;31mImportError\u001b[0m: Install xlrd >= 0.9.0 for Excel support",
            "",
            "\u001b[0;31m---------------------------------------------------------------------------\u001b[0;32m\nNOTE: If your import is failing due to a missing package, you can\nmanually install dependencies using either !pip or !apt.\n\nTo view examples of installing some common dependencies, click the\n\"Open Examples\" button below.\n\u001b[0;31m---------------------------------------------------------------------------\u001b[0m\n"
          ]
        }
      ]
    },
    {
      "metadata": {
        "id": "PVGoIohdSWV-",
        "colab_type": "text"
      },
      "cell_type": "markdown",
      "source": [
        "Prepare data for training"
      ]
    },
    {
      "metadata": {
        "id": "kBX77gSYu2Ty",
        "colab_type": "code",
        "colab": {}
      },
      "cell_type": "code",
      "source": [
        "maxlen_seq = 2048\n",
        "# Loading and converting the inputs to trigrams\n",
        "train_input_seqs, train_target_seqs = train_df[['input', 'expected']][(train_df.len <= maxlen_seq)].values.T\n",
        "train_input_grams = seq2ngrams(train_input_seqs)\n",
        "\n",
        "# Same for test\n",
        "test_input_seqs = test_df['input'].values.T\n",
        "test_input_grams = seq2ngrams(test_input_seqs)\n",
        "\n",
        "# Initializing and defining the tokenizer encoders and decoders based on the train set\n",
        "tokenizer_encoder = Tokenizer()\n",
        "tokenizer_encoder.fit_on_texts(train_input_grams)\n",
        "tokenizer_decoder = Tokenizer(char_level = True)\n",
        "tokenizer_decoder.fit_on_texts(train_target_seqs)\n",
        "\n",
        "# Using the tokenizer to encode and decode the sequences for use in training\n",
        "# Inputs\n",
        "train_input_data = tokenizer_encoder.texts_to_sequences(train_input_grams)\n",
        "train_input_data = sequence.pad_sequences(train_input_data, maxlen = maxlen_seq, padding = 'post')\n",
        "\n",
        "# Targets\n",
        "train_target_data = tokenizer_decoder.texts_to_sequences(train_target_seqs)\n",
        "train_target_data = sequence.pad_sequences(train_target_data, maxlen = maxlen_seq, padding = 'post')\n",
        "train_target_data = to_categorical(train_target_data)\n",
        "\n",
        "# Use the same tokenizer defined on train for tokenization of test\n",
        "test_input_data = tokenizer_encoder.texts_to_sequences(test_input_grams)\n",
        "test_input_data = sequence.pad_sequences(test_input_data, maxlen = maxlen_seq, padding = 'post')\n",
        "\n",
        "# Computing the number of words and number of tags to be passed as parameters to the keras model\n",
        "n_words = len(tokenizer_encoder.word_index) + 1\n",
        "n_tags = len(tokenizer_decoder.word_index) + 1\n",
        "\n",
        "input = Input(shape = (maxlen_seq,))\n",
        "\n",
        "\n"
      ],
      "execution_count": 0,
      "outputs": []
    },
    {
      "metadata": {
        "id": "qfcZz5kbSZd6",
        "colab_type": "text"
      },
      "cell_type": "markdown",
      "source": [
        "Create the CNN LSTM model"
      ]
    },
    {
      "metadata": {
        "id": "QYdRY8rWEApe",
        "colab_type": "code",
        "colab": {
          "base_uri": "https://localhost:8080/",
          "height": 328
        },
        "outputId": "f07d09ef-c108-4e68-a6fc-9d2208d3dca7"
      },
      "cell_type": "code",
      "source": [
        "\n",
        "print(n_tags, n_words, maxlen_seq)\n",
        "model = Sequential()\n",
        "model.add(Embedding(input_dim = n_words, output_dim = 128, input_length = maxlen_seq))\n",
        "model.add(Dropout(0.2))\n",
        "\n",
        "model.add(Conv1D(filters=64,\n",
        "                 kernel_size=5,\n",
        "                 padding='same',\n",
        "                 activation='relu',\n",
        "                 strides=1))              \n",
        "\n",
        "model.add(LSTM(units = 64, return_sequences = True, recurrent_dropout = 0.2))\n",
        "model.add(Dense(n_tags, activation = \"softmax\"))\n",
        "model.summary()\n",
        "\n",
        "\n"
      ],
      "execution_count": 6,
      "outputs": [
        {
          "output_type": "stream",
          "text": [
            "(9, 9623, 2048)\n",
            "_________________________________________________________________\n",
            "Layer (type)                 Output Shape              Param #   \n",
            "=================================================================\n",
            "embedding_1 (Embedding)      (None, 2048, 128)         1231744   \n",
            "_________________________________________________________________\n",
            "dropout_1 (Dropout)          (None, 2048, 128)         0         \n",
            "_________________________________________________________________\n",
            "conv1d_1 (Conv1D)            (None, 2048, 64)          41024     \n",
            "_________________________________________________________________\n",
            "lstm_1 (LSTM)                (None, 2048, 64)          33024     \n",
            "_________________________________________________________________\n",
            "dense_1 (Dense)              (None, 2048, 9)           585       \n",
            "=================================================================\n",
            "Total params: 1,306,377\n",
            "Trainable params: 1,306,377\n",
            "Non-trainable params: 0\n",
            "_________________________________________________________________\n"
          ],
          "name": "stdout"
        }
      ]
    },
    {
      "metadata": {
        "id": "VGFlh214ScCg",
        "colab_type": "text"
      },
      "cell_type": "markdown",
      "source": [
        "Cross validation training"
      ]
    },
    {
      "metadata": {
        "id": "BYvRVRkixLIc",
        "colab_type": "code",
        "colab": {
          "base_uri": "https://localhost:8080/",
          "height": 3488
        },
        "outputId": "8a0fe928-0473-4ac9-9fe4-b24534af7a0a"
      },
      "cell_type": "code",
      "source": [
        "\n",
        "kf = KFold(n_splits=10)\n",
        "kf.get_n_splits()\n",
        "\n",
        "print(kf)  \n",
        "print(train_input_data.shape, train_target_data.shape)\n",
        "model.compile(optimizer = \"rmsprop\", loss = \"categorical_crossentropy\", metrics = [\"accuracy\", customAccuracy])\n",
        "\n",
        "def Average(lst): \n",
        "    return sum(lst) / len(lst)\n",
        "\n",
        "accuracies = []\n",
        "counter = 0\n",
        "for train_index, test_index in kf.split(train_target_data):\n",
        "  Xtrain, Xtest = train_input_data[train_index], train_input_data[test_index]\n",
        "  ytrain, ytest = train_target_data[train_index], train_target_data[test_index]\n",
        "  model.fit(Xtrain, ytrain, batch_size = 128, epochs = 15, validation_data = (Xtest, ytest), verbose =  1)\n",
        "  accuracy = model.evaluate(Xtest, ytest, batch_size=128)\n",
        "  accuracies.append(accuracy[2])\n",
        "  print(accuracies, Average(accuracies))\n",
        "\n",
        "  # Defining the decoders so that we can\n",
        "  revsere_decoder_index = {value:key for key,value in tokenizer_decoder.word_index.items()}\n",
        "  revsere_encoder_index = {value:key for key,value in tokenizer_encoder.word_index.items()}\n",
        "  y_test_pred = model.predict(test_input_data[:])\n",
        "  print(len(test_input_data))\n",
        "  counter += 1\n",
        "  file = 'output' + str(counter) + \".csv\"\n",
        "  f = open(file,'w')\n",
        "  f.write(\"id\" + ',' + \"expected\")\n",
        "  for i in range(len(test_df)):\n",
        "    f.write('\\n' + test_df['id'].iloc[i] +',' + str(onehot_to_seq(y_test_pred[i], revsere_decoder_index).upper()))\n",
        "  f.close()\n",
        "  !cp output* /content/drive/My\\ Drive/"
      ],
      "execution_count": 0,
      "outputs": [
        {
          "output_type": "stream",
          "text": [
            "KFold(n_splits=10, random_state=None, shuffle=False)\n",
            "((6471, 2048), (6471, 2048, 9))\n",
            "Train on 5823 samples, validate on 648 samples\n",
            "Epoch 1/15\n",
            "5823/5823 [==============================] - 350s 60ms/step - loss: 0.4909 - acc: 0.8437 - customAccuracy: 0.2921 - val_loss: 0.2986 - val_acc: 0.8883 - val_customAccuracy: 0.3983\n",
            "Epoch 2/15\n",
            "5823/5823 [==============================] - 346s 59ms/step - loss: 0.3003 - acc: 0.8875 - customAccuracy: 0.4217 - val_loss: 0.2818 - val_acc: 0.8943 - val_customAccuracy: 0.4281\n",
            "Epoch 3/15\n",
            "5823/5823 [==============================] - 346s 59ms/step - loss: 0.2843 - acc: 0.8956 - customAccuracy: 0.4625 - val_loss: 0.2690 - val_acc: 0.9004 - val_customAccuracy: 0.4610\n",
            "Epoch 4/15\n",
            "5823/5823 [==============================] - 346s 59ms/step - loss: 0.2704 - acc: 0.9011 - customAccuracy: 0.4911 - val_loss: 0.2595 - val_acc: 0.9041 - val_customAccuracy: 0.4810\n",
            "Epoch 5/15\n",
            "5823/5823 [==============================] - 347s 60ms/step - loss: 0.2630 - acc: 0.9046 - customAccuracy: 0.5089 - val_loss: 0.2566 - val_acc: 0.9061 - val_customAccuracy: 0.4915\n",
            "Epoch 6/15\n",
            "5823/5823 [==============================] - 346s 59ms/step - loss: 0.2576 - acc: 0.9070 - customAccuracy: 0.5214 - val_loss: 0.2533 - val_acc: 0.9081 - val_customAccuracy: 0.5025\n",
            "Epoch 7/15\n",
            "5823/5823 [==============================] - 347s 60ms/step - loss: 0.2532 - acc: 0.9090 - customAccuracy: 0.5315 - val_loss: 0.2518 - val_acc: 0.9088 - val_customAccuracy: 0.5060\n",
            "Epoch 8/15\n",
            "5823/5823 [==============================] - 347s 60ms/step - loss: 0.2502 - acc: 0.9101 - customAccuracy: 0.5372 - val_loss: 0.2502 - val_acc: 0.9094 - val_customAccuracy: 0.5094\n",
            "Epoch 9/15\n",
            "5823/5823 [==============================] - 347s 60ms/step - loss: 0.2473 - acc: 0.9113 - customAccuracy: 0.5435 - val_loss: 0.2500 - val_acc: 0.9093 - val_customAccuracy: 0.5087\n",
            "Epoch 10/15\n",
            "5823/5823 [==============================] - 347s 60ms/step - loss: 0.2448 - acc: 0.9123 - customAccuracy: 0.5484 - val_loss: 0.2493 - val_acc: 0.9099 - val_customAccuracy: 0.5123\n",
            "Epoch 11/15\n",
            "5823/5823 [==============================] - 346s 59ms/step - loss: 0.2432 - acc: 0.9128 - customAccuracy: 0.5511 - val_loss: 0.2479 - val_acc: 0.9103 - val_customAccuracy: 0.5140\n",
            "Epoch 12/15\n",
            "5823/5823 [==============================] - 347s 60ms/step - loss: 0.2412 - acc: 0.9136 - customAccuracy: 0.5552 - val_loss: 0.2516 - val_acc: 0.9096 - val_customAccuracy: 0.5108\n",
            "Epoch 13/15\n",
            "5823/5823 [==============================] - 346s 59ms/step - loss: 0.2393 - acc: 0.9143 - customAccuracy: 0.5591 - val_loss: 0.2484 - val_acc: 0.9100 - val_customAccuracy: 0.5127\n",
            "Epoch 14/15\n",
            "5823/5823 [==============================] - 346s 59ms/step - loss: 0.2379 - acc: 0.9149 - customAccuracy: 0.5621 - val_loss: 0.2490 - val_acc: 0.9098 - val_customAccuracy: 0.5114\n",
            "Epoch 15/15\n",
            "5823/5823 [==============================] - 347s 60ms/step - loss: 0.2362 - acc: 0.9155 - customAccuracy: 0.5652 - val_loss: 0.2548 - val_acc: 0.9089 - val_customAccuracy: 0.5069\n",
            "648/648 [==============================] - 10s 16ms/step\n",
            "([0.5069186834641445], 0.5069186834641445)\n",
            "119\n",
            "Train on 5824 samples, validate on 647 samples\n",
            "Epoch 1/15\n",
            "5824/5824 [==============================] - 355s 61ms/step - loss: 0.2392 - acc: 0.9144 - customAccuracy: 0.5617 - val_loss: 0.2090 - val_acc: 0.9255 - val_customAccuracy: 0.5777\n",
            "Epoch 2/15\n",
            "5824/5824 [==============================] - 353s 61ms/step - loss: 0.2369 - acc: 0.9153 - customAccuracy: 0.5661 - val_loss: 0.2123 - val_acc: 0.9238 - val_customAccuracy: 0.5678\n",
            "Epoch 3/15\n",
            "5824/5824 [==============================] - 352s 60ms/step - loss: 0.2346 - acc: 0.9161 - customAccuracy: 0.5702 - val_loss: 0.2149 - val_acc: 0.9231 - val_customAccuracy: 0.5639\n",
            "Epoch 4/15\n",
            "5824/5824 [==============================] - 351s 60ms/step - loss: 0.2331 - acc: 0.9167 - customAccuracy: 0.5733 - val_loss: 0.2161 - val_acc: 0.9225 - val_customAccuracy: 0.5606\n",
            "Epoch 5/15\n",
            "5824/5824 [==============================] - 352s 60ms/step - loss: 0.2313 - acc: 0.9173 - customAccuracy: 0.5766 - val_loss: 0.2186 - val_acc: 0.9218 - val_customAccuracy: 0.5568\n",
            "Epoch 6/15\n",
            "5824/5824 [==============================] - 351s 60ms/step - loss: 0.2297 - acc: 0.9179 - customAccuracy: 0.5796 - val_loss: 0.2193 - val_acc: 0.9216 - val_customAccuracy: 0.5556\n",
            "Epoch 7/15\n",
            "5824/5824 [==============================] - 351s 60ms/step - loss: 0.2282 - acc: 0.9185 - customAccuracy: 0.5826 - val_loss: 0.2209 - val_acc: 0.9211 - val_customAccuracy: 0.5526\n",
            "Epoch 8/15\n",
            "5824/5824 [==============================] - 351s 60ms/step - loss: 0.2263 - acc: 0.9192 - customAccuracy: 0.5861 - val_loss: 0.2225 - val_acc: 0.9206 - val_customAccuracy: 0.5501\n",
            "Epoch 9/15\n",
            "5824/5824 [==============================] - 352s 60ms/step - loss: 0.2247 - acc: 0.9198 - customAccuracy: 0.5890 - val_loss: 0.2231 - val_acc: 0.9202 - val_customAccuracy: 0.5478\n",
            "Epoch 10/15\n",
            "5824/5824 [==============================] - 352s 61ms/step - loss: 0.2231 - acc: 0.9204 - customAccuracy: 0.5923 - val_loss: 0.2261 - val_acc: 0.9191 - val_customAccuracy: 0.5414\n",
            "Epoch 11/15\n",
            "5824/5824 [==============================] - 356s 61ms/step - loss: 0.2216 - acc: 0.9209 - customAccuracy: 0.5947 - val_loss: 0.2263 - val_acc: 0.9191 - val_customAccuracy: 0.5416\n",
            "Epoch 12/15\n",
            "5824/5824 [==============================] - 352s 61ms/step - loss: 0.2206 - acc: 0.9214 - customAccuracy: 0.5973 - val_loss: 0.2280 - val_acc: 0.9189 - val_customAccuracy: 0.5405\n",
            "Epoch 13/15\n",
            "5824/5824 [==============================] - 352s 61ms/step - loss: 0.2188 - acc: 0.9221 - customAccuracy: 0.6006 - val_loss: 0.2284 - val_acc: 0.9183 - val_customAccuracy: 0.5368\n",
            "Epoch 14/15\n",
            "5824/5824 [==============================] - 353s 61ms/step - loss: 0.2175 - acc: 0.9226 - customAccuracy: 0.6037 - val_loss: 0.2301 - val_acc: 0.9187 - val_customAccuracy: 0.5391\n",
            "Epoch 15/15\n",
            "5824/5824 [==============================] - 353s 61ms/step - loss: 0.2155 - acc: 0.9233 - customAccuracy: 0.6071 - val_loss: 0.2390 - val_acc: 0.9172 - val_customAccuracy: 0.5307\n",
            "647/647 [==============================] - 10s 16ms/step\n",
            "([0.5069186834641445, 0.5307003922035005], 0.5188095378338224)\n",
            "119\n",
            "Train on 5824 samples, validate on 647 samples\n",
            "Epoch 1/15\n",
            "5824/5824 [==============================] - 352s 60ms/step - loss: 0.2188 - acc: 0.9222 - customAccuracy: 0.6012 - val_loss: 0.1908 - val_acc: 0.9320 - val_customAccuracy: 0.6175\n",
            "Epoch 2/15\n",
            "5824/5824 [==============================] - 351s 60ms/step - loss: 0.2160 - acc: 0.9232 - customAccuracy: 0.6061 - val_loss: 0.1962 - val_acc: 0.9300 - val_customAccuracy: 0.6066\n",
            "Epoch 3/15\n",
            "5824/5824 [==============================] - 350s 60ms/step - loss: 0.2140 - acc: 0.9239 - customAccuracy: 0.6096 - val_loss: 0.1994 - val_acc: 0.9287 - val_customAccuracy: 0.5992\n",
            "Epoch 4/15\n",
            "5824/5824 [==============================] - 349s 60ms/step - loss: 0.2124 - acc: 0.9244 - customAccuracy: 0.6123 - val_loss: 0.2007 - val_acc: 0.9281 - val_customAccuracy: 0.5958\n",
            "Epoch 5/15\n",
            "5824/5824 [==============================] - 348s 60ms/step - loss: 0.2103 - acc: 0.9252 - customAccuracy: 0.6166 - val_loss: 0.2045 - val_acc: 0.9266 - val_customAccuracy: 0.5876\n",
            "Epoch 6/15\n",
            "5824/5824 [==============================] - 349s 60ms/step - loss: 0.2084 - acc: 0.9259 - customAccuracy: 0.6199 - val_loss: 0.2151 - val_acc: 0.9230 - val_customAccuracy: 0.5675\n",
            "Epoch 7/15\n",
            "5824/5824 [==============================] - 348s 60ms/step - loss: 0.2070 - acc: 0.9263 - customAccuracy: 0.6219 - val_loss: 0.2135 - val_acc: 0.9237 - val_customAccuracy: 0.5708\n",
            "Epoch 8/15\n",
            "5824/5824 [==============================] - 349s 60ms/step - loss: 0.2050 - acc: 0.9272 - customAccuracy: 0.6263 - val_loss: 0.2141 - val_acc: 0.9234 - val_customAccuracy: 0.5697\n",
            "Epoch 9/15\n",
            "5824/5824 [==============================] - 350s 60ms/step - loss: 0.2037 - acc: 0.9276 - customAccuracy: 0.6284 - val_loss: 0.2175 - val_acc: 0.9220 - val_customAccuracy: 0.5614\n",
            "Epoch 10/15\n",
            "5824/5824 [==============================] - 348s 60ms/step - loss: 0.2020 - acc: 0.9282 - customAccuracy: 0.6318 - val_loss: 0.2188 - val_acc: 0.9222 - val_customAccuracy: 0.5627\n",
            "Epoch 11/15\n",
            "5824/5824 [==============================] - 348s 60ms/step - loss: 0.2003 - acc: 0.9288 - customAccuracy: 0.6346 - val_loss: 0.2196 - val_acc: 0.9230 - val_customAccuracy: 0.5668\n",
            "Epoch 12/15\n",
            "5824/5824 [==============================] - 349s 60ms/step - loss: 0.1988 - acc: 0.9293 - customAccuracy: 0.6372 - val_loss: 0.2210 - val_acc: 0.9217 - val_customAccuracy: 0.5595\n",
            "Epoch 13/15\n",
            "5824/5824 [==============================] - 349s 60ms/step - loss: 0.1975 - acc: 0.9297 - customAccuracy: 0.6393 - val_loss: 0.2268 - val_acc: 0.9205 - val_customAccuracy: 0.5531\n",
            "Epoch 14/15\n",
            "5824/5824 [==============================] - 349s 60ms/step - loss: 0.1964 - acc: 0.9301 - customAccuracy: 0.6413 - val_loss: 0.2258 - val_acc: 0.9207 - val_customAccuracy: 0.5541\n",
            "Epoch 15/15\n",
            "5824/5824 [==============================] - 349s 60ms/step - loss: 0.1948 - acc: 0.9308 - customAccuracy: 0.6446 - val_loss: 0.2292 - val_acc: 0.9201 - val_customAccuracy: 0.5509\n",
            "647/647 [==============================] - 10s 16ms/step\n",
            "([0.5069186834641445, 0.5307003922035005, 0.5508547177454788], 0.5294912644710412)\n",
            "119\n",
            "Train on 5824 samples, validate on 647 samples\n",
            "Epoch 1/15\n",
            "5824/5824 [==============================] - 353s 61ms/step - loss: 0.1981 - acc: 0.9297 - customAccuracy: 0.6364 - val_loss: 0.1787 - val_acc: 0.9370 - val_customAccuracy: 0.6730\n",
            "Epoch 2/15\n",
            "5824/5824 [==============================] - 353s 61ms/step - loss: 0.1955 - acc: 0.9305 - customAccuracy: 0.6406 - val_loss: 0.1858 - val_acc: 0.9339 - val_customAccuracy: 0.6569\n",
            "Epoch 3/15\n",
            "5824/5824 [==============================] - 350s 60ms/step - loss: 0.1936 - acc: 0.9312 - customAccuracy: 0.6439 - val_loss: 0.1882 - val_acc: 0.9334 - val_customAccuracy: 0.6542\n",
            "Epoch 4/15\n",
            "5824/5824 [==============================] - 351s 60ms/step - loss: 0.1918 - acc: 0.9318 - customAccuracy: 0.6472 - val_loss: 0.1919 - val_acc: 0.9318 - val_customAccuracy: 0.6459\n",
            "Epoch 5/15\n",
            "5824/5824 [==============================] - 350s 60ms/step - loss: 0.1897 - acc: 0.9325 - customAccuracy: 0.6508 - val_loss: 0.1957 - val_acc: 0.9305 - val_customAccuracy: 0.6390\n",
            "Epoch 6/15\n",
            "5824/5824 [==============================] - 349s 60ms/step - loss: 0.1887 - acc: 0.9329 - customAccuracy: 0.6526 - val_loss: 0.1983 - val_acc: 0.9294 - val_customAccuracy: 0.6336\n",
            "Epoch 7/15\n",
            "5824/5824 [==============================] - 347s 60ms/step - loss: 0.1869 - acc: 0.9335 - customAccuracy: 0.6562 - val_loss: 0.2055 - val_acc: 0.9268 - val_customAccuracy: 0.6201\n",
            "Epoch 8/15\n",
            "5824/5824 [==============================] - 345s 59ms/step - loss: 0.1855 - acc: 0.9339 - customAccuracy: 0.6582 - val_loss: 0.2067 - val_acc: 0.9260 - val_customAccuracy: 0.6156\n",
            "Epoch 9/15\n",
            "5824/5824 [==============================] - 347s 60ms/step - loss: 0.1841 - acc: 0.9344 - customAccuracy: 0.6606 - val_loss: 0.2095 - val_acc: 0.9255 - val_customAccuracy: 0.6130\n",
            "Epoch 10/15\n",
            "5824/5824 [==============================] - 346s 59ms/step - loss: 0.1827 - acc: 0.9349 - customAccuracy: 0.6631 - val_loss: 0.2135 - val_acc: 0.9237 - val_customAccuracy: 0.6038\n",
            "Epoch 11/15\n",
            "5824/5824 [==============================] - 347s 60ms/step - loss: 0.1815 - acc: 0.9353 - customAccuracy: 0.6653 - val_loss: 0.2155 - val_acc: 0.9247 - val_customAccuracy: 0.6088\n",
            "Epoch 12/15\n",
            "5824/5824 [==============================] - 346s 59ms/step - loss: 0.1801 - acc: 0.9358 - customAccuracy: 0.6681 - val_loss: 0.2247 - val_acc: 0.9223 - val_customAccuracy: 0.5963\n",
            "Epoch 13/15\n",
            "5824/5824 [==============================] - 347s 60ms/step - loss: 0.1792 - acc: 0.9361 - customAccuracy: 0.6693 - val_loss: 0.2225 - val_acc: 0.9223 - val_customAccuracy: 0.5967\n",
            "Epoch 14/15\n",
            "5824/5824 [==============================] - 348s 60ms/step - loss: 0.1780 - acc: 0.9365 - customAccuracy: 0.6713 - val_loss: 0.2259 - val_acc: 0.9200 - val_customAccuracy: 0.5843\n",
            "Epoch 15/15\n",
            "5824/5824 [==============================] - 347s 60ms/step - loss: 0.1767 - acc: 0.9370 - customAccuracy: 0.6742 - val_loss: 0.2295 - val_acc: 0.9215 - val_customAccuracy: 0.5925\n",
            "647/647 [==============================] - 10s 16ms/step\n",
            "([0.5069186834641445, 0.5307003922035005, 0.5508547177454788, 0.5924812102059861], 0.5452387509047775)\n",
            "119\n",
            "Train on 5824 samples, validate on 647 samples\n",
            "Epoch 1/15\n",
            "5824/5824 [==============================] - 351s 60ms/step - loss: 0.1833 - acc: 0.9349 - customAccuracy: 0.6636 - val_loss: 0.1616 - val_acc: 0.9427 - val_customAccuracy: 0.6998\n",
            "Epoch 2/15\n",
            "5824/5824 [==============================] - 351s 60ms/step - loss: 0.1799 - acc: 0.9360 - customAccuracy: 0.6692 - val_loss: 0.1644 - val_acc: 0.9413 - val_customAccuracy: 0.6924\n",
            "Epoch 3/15\n",
            "5824/5824 [==============================] - 351s 60ms/step - loss: 0.1783 - acc: 0.9365 - customAccuracy: 0.6718 - val_loss: 0.1666 - val_acc: 0.9409 - val_customAccuracy: 0.6898\n",
            "Epoch 4/15\n",
            "5824/5824 [==============================] - 351s 60ms/step - loss: 0.1765 - acc: 0.9372 - customAccuracy: 0.6749 - val_loss: 0.1704 - val_acc: 0.9393 - val_customAccuracy: 0.6816\n",
            "Epoch 5/15\n",
            "5824/5824 [==============================] - 351s 60ms/step - loss: 0.1753 - acc: 0.9375 - customAccuracy: 0.6773 - val_loss: 0.1753 - val_acc: 0.9374 - val_customAccuracy: 0.6718\n",
            "Epoch 6/15\n",
            "5824/5824 [==============================] - 351s 60ms/step - loss: 0.1735 - acc: 0.9381 - customAccuracy: 0.6805 - val_loss: 0.1817 - val_acc: 0.9351 - val_customAccuracy: 0.6597\n",
            "Epoch 7/15\n",
            "5824/5824 [==============================] - 352s 60ms/step - loss: 0.1722 - acc: 0.9386 - customAccuracy: 0.6824 - val_loss: 0.1808 - val_acc: 0.9354 - val_customAccuracy: 0.6614\n",
            "Epoch 8/15\n",
            "5824/5824 [==============================] - 352s 60ms/step - loss: 0.1711 - acc: 0.9389 - customAccuracy: 0.6843 - val_loss: 0.1840 - val_acc: 0.9345 - val_customAccuracy: 0.6564\n",
            "Epoch 9/15\n",
            "5824/5824 [==============================] - 352s 60ms/step - loss: 0.1700 - acc: 0.9393 - customAccuracy: 0.6861 - val_loss: 0.1873 - val_acc: 0.9331 - val_customAccuracy: 0.6491\n",
            "Epoch 10/15\n",
            "5824/5824 [==============================] - 352s 60ms/step - loss: 0.1690 - acc: 0.9397 - customAccuracy: 0.6883 - val_loss: 0.1910 - val_acc: 0.9323 - val_customAccuracy: 0.6451\n",
            "Epoch 11/15\n",
            "5824/5824 [==============================] - 352s 60ms/step - loss: 0.1678 - acc: 0.9400 - customAccuracy: 0.6897 - val_loss: 0.1955 - val_acc: 0.9309 - val_customAccuracy: 0.6375\n",
            "Epoch 12/15\n",
            "5824/5824 [==============================] - 351s 60ms/step - loss: 0.1667 - acc: 0.9404 - customAccuracy: 0.6920 - val_loss: 0.1963 - val_acc: 0.9305 - val_customAccuracy: 0.6357\n",
            "Epoch 13/15\n",
            "5824/5824 [==============================] - 351s 60ms/step - loss: 0.1655 - acc: 0.9408 - customAccuracy: 0.6941 - val_loss: 0.1999 - val_acc: 0.9295 - val_customAccuracy: 0.6303\n",
            "Epoch 14/15\n",
            "5824/5824 [==============================] - 352s 60ms/step - loss: 0.1649 - acc: 0.9410 - customAccuracy: 0.6945 - val_loss: 0.2046 - val_acc: 0.9271 - val_customAccuracy: 0.6180\n",
            "Epoch 15/15\n",
            "5824/5824 [==============================] - 352s 60ms/step - loss: 0.1638 - acc: 0.9414 - customAccuracy: 0.6967 - val_loss: 0.2023 - val_acc: 0.9283 - val_customAccuracy: 0.6242\n",
            "647/647 [==============================] - 10s 16ms/step\n",
            "([0.5069186834641445, 0.5307003922035005, 0.5508547177454788, 0.5924812102059861, 0.6242107866904835], 0.5610331580619187)\n",
            "119\n",
            "Train on 5824 samples, validate on 647 samples\n",
            "Epoch 1/15\n",
            "5824/5824 [==============================] - 351s 60ms/step - loss: 0.1681 - acc: 0.9401 - customAccuracy: 0.6883 - val_loss: 0.1562 - val_acc: 0.9445 - val_customAccuracy: 0.7241\n",
            "Epoch 2/15\n",
            "5824/5824 [==============================] - 350s 60ms/step - loss: 0.1657 - acc: 0.9408 - customAccuracy: 0.6923 - val_loss: 0.1604 - val_acc: 0.9433 - val_customAccuracy: 0.7180\n",
            "Epoch 3/15\n",
            "5824/5824 [==============================] - 349s 60ms/step - loss: 0.1639 - acc: 0.9414 - customAccuracy: 0.6951 - val_loss: 0.1652 - val_acc: 0.9411 - val_customAccuracy: 0.7071\n",
            "Epoch 4/15\n",
            "5824/5824 [==============================] - 351s 60ms/step - loss: 0.1622 - acc: 0.9420 - customAccuracy: 0.6981 - val_loss: 0.1699 - val_acc: 0.9394 - val_customAccuracy: 0.6990\n",
            "Epoch 5/15\n",
            "5824/5824 [==============================] - 349s 60ms/step - loss: 0.1611 - acc: 0.9424 - customAccuracy: 0.7003 - val_loss: 0.1713 - val_acc: 0.9384 - val_customAccuracy: 0.6944\n",
            "Epoch 6/15\n",
            "5824/5824 [==============================] - 349s 60ms/step - loss: 0.1602 - acc: 0.9427 - customAccuracy: 0.7019 - val_loss: 0.1741 - val_acc: 0.9374 - val_customAccuracy: 0.6890\n",
            "Epoch 7/15\n",
            "5824/5824 [==============================] - 350s 60ms/step - loss: 0.1589 - acc: 0.9431 - customAccuracy: 0.7039 - val_loss: 0.1820 - val_acc: 0.9345 - val_customAccuracy: 0.6751\n",
            "Epoch 8/15\n",
            "5824/5824 [==============================] - 348s 60ms/step - loss: 0.1581 - acc: 0.9434 - customAccuracy: 0.7052 - val_loss: 0.1815 - val_acc: 0.9349 - val_customAccuracy: 0.6768\n",
            "Epoch 9/15\n",
            "5824/5824 [==============================] - 349s 60ms/step - loss: 0.1570 - acc: 0.9438 - customAccuracy: 0.7072 - val_loss: 0.1863 - val_acc: 0.9332 - val_customAccuracy: 0.6682\n",
            "Epoch 10/15\n",
            "5824/5824 [==============================] - 350s 60ms/step - loss: 0.1560 - acc: 0.9441 - customAccuracy: 0.7090 - val_loss: 0.1911 - val_acc: 0.9316 - val_customAccuracy: 0.6607\n",
            "Epoch 11/15\n",
            "5824/5824 [==============================] - 348s 60ms/step - loss: 0.1551 - acc: 0.9444 - customAccuracy: 0.7106 - val_loss: 0.1938 - val_acc: 0.9308 - val_customAccuracy: 0.6567\n",
            "Epoch 12/15\n",
            "5824/5824 [==============================] - 349s 60ms/step - loss: 0.1544 - acc: 0.9446 - customAccuracy: 0.7117 - val_loss: 0.1934 - val_acc: 0.9307 - val_customAccuracy: 0.6559\n",
            "Epoch 13/15\n",
            "5824/5824 [==============================] - 349s 60ms/step - loss: 0.1536 - acc: 0.9449 - customAccuracy: 0.7134 - val_loss: 0.1972 - val_acc: 0.9293 - val_customAccuracy: 0.6492\n",
            "Epoch 14/15\n",
            "5824/5824 [==============================] - 349s 60ms/step - loss: 0.1529 - acc: 0.9451 - customAccuracy: 0.7147 - val_loss: 0.2005 - val_acc: 0.9290 - val_customAccuracy: 0.6478\n",
            "Epoch 15/15\n",
            "1408/5824 [======>.......................] - ETA: 4:14 - loss: 0.1566 - acc: 0.9439 - customAccuracy: 0.7219"
          ],
          "name": "stdout"
        }
      ]
    },
    {
      "metadata": {
        "id": "_g30GsowSgM-",
        "colab_type": "text"
      },
      "cell_type": "markdown",
      "source": [
        "Save the output"
      ]
    },
    {
      "metadata": {
        "id": "iDbcSGR9y-6o",
        "colab_type": "code",
        "colab": {}
      },
      "cell_type": "code",
      "source": [
        "f = open('output.csv','w')\n",
        "f.write(\"id\" + ',' + \"expected\")\n",
        "for i in range(len(test_df)):\n",
        "  f.write('\\n' + test_df['id'].iloc[i] +',' + str(onehot_to_seq(y_test_pred[i], revsere_decoder_index).upper()))\n",
        "f.close()\n",
        "\n",
        "    #print_results(test_input_seqs[i], y_test_pred[i], revsere_decoder_index)"
      ],
      "execution_count": 0,
      "outputs": []
    },
    {
      "metadata": {
        "id": "by3BfrI607bz",
        "colab_type": "code",
        "colab": {}
      },
      "cell_type": "code",
      "source": [
        "!ls\n",
        "!head output.csv\n",
        "!ls -ltr output.csv\n",
        "!date\n",
        "!cp output.csv /content/drive/My\\ Drive/"
      ],
      "execution_count": 0,
      "outputs": []
    }
  ]
}